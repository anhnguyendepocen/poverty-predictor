{
 "cells": [
  {
   "cell_type": "code",
   "execution_count": 5,
   "metadata": {},
   "outputs": [],
   "source": [
    "import descarteslabs as dl\n",
    "from pprint import pprint"
   ]
  },
  {
   "cell_type": "markdown",
   "metadata": {},
   "source": [
    "**Experiment with Descartes Labs API and inventory datasets**\n",
    "\n",
    "Goal - employ remote sensing technique developed by Stanford Scientists to forecast the landsacpe of poverty.\n",
    "\n",
    "http://sustain.stanford.edu/predicting-poverty/\n",
    "\n",
    "Let's see what datasets are available via the Descartes Labs API.\n"
   ]
  },
  {
   "cell_type": "code",
   "execution_count": 7,
   "metadata": {},
   "outputs": [
    {
     "name": "stdout",
     "output_type": "stream",
     "text": [
      "[{u'product': u'modis:09:CREFL', u'sat_id': u'Terra'},\n",
      " {u'product': u'modis:09:CREFL', u'sat_id': u'Aqua'},\n",
      " {u'product': u'sentinel-2:L1C', u'sat_id': u'S2A'},\n",
      " {u'product': u'sentinel-2:L1C', u'sat_id': u'S2B'},\n",
      " {u'product': u'landsat:LE07:PRE:TOAR', u'sat_id': u'LANDSAT_7'},\n",
      " {u'product': u'landsat:LE07:PRE:TOAR', u'sat_id': u'Landsat7'},\n",
      " {u'product': u'landsat:LT05:PRE:TOAR', u'sat_id': u'LANDSAT_5'},\n",
      " {u'product': u'landsat:LT05:PRE:TOAR', u'sat_id': u'Landsat5'},\n",
      " {u'product': u'sentinel-3:OLCI_RGB', u'sat_id': u'S3A'},\n",
      " {u'product': u'landsat:LC08:PRE:TOAR', u'sat_id': u'LANDSAT_8'},\n",
      " {u'product': u'usda:naip:rgbn', u'sat_id': u'NAIP'},\n",
      " {u'product': u'sentinel-1:GRD', u'sat_id': u'SENTINEL-1A'},\n",
      " {u'product': u'sentinel-1:GRD', u'sat_id': u'SENTINEL-1B'},\n",
      " {u'product': u'landsat:LC08:PRE:LaSRC', u'sat_id': u'L8SR'},\n",
      " {u'product': u'usda:naip:rgbn:v1', u'sat_id': u'NAIP'},\n",
      " {u'product': u'landsat:LC08:01:RT:TOAR', u'sat_id': u'LANDSAT_8'},\n",
      " {u'product': u'landsat:LC08:01:T1:TOAR', u'sat_id': u'LANDSAT_8'},\n",
      " {u'product': u'srtm:GL1003', u'sat_id': u'srtm'},\n",
      " {u'product': u'landsat:LT04:PRE:TOAR', u'sat_id': u'Landsat4'},\n",
      " {u'product': u'landsat:LT04:PRE:TOAR', u'sat_id': u'LANDSAT_4'},\n",
      " {u'product': u'landsat:LE07:01:RT:TOAR', u'sat_id': u'LANDSAT_7'},\n",
      " {u'product': u'landsat:LC08:01:T2:TOAR', u'sat_id': u'LANDSAT_8'},\n",
      " {u'product': u'texas-orthoimagery:v0', u'sat_id': u'TOP50'},\n",
      " {u'product': u'landsat:LE07:01:T1:TOAR', u'sat_id': u'LANDSAT_7'},\n",
      " {u'product': u'landsat:LE07:01:T2:TOAR', u'sat_id': u'LANDSAT_7'},\n",
      " {u'product': u'usda:cdl', u'sat_id': u'CDL'}]\n"
     ]
    }
   ],
   "source": [
    "sources = dl.metadata.sources()\n",
    "pprint (sources)"
   ]
  },
  {
   "cell_type": "code",
   "execution_count": 9,
   "metadata": {},
   "outputs": [],
   "source": [
    "# Import plotting packages\n",
    "%matplotlib inline\n",
    "import matplotlib.pyplot as plt\n",
    "import shapely.geometry\n",
    "import cartopy"
   ]
  },
  {
   "cell_type": "code",
   "execution_count": 10,
   "metadata": {},
   "outputs": [
    {
     "name": "stdout",
     "output_type": "stream",
     "text": [
      "[{u'bbox': [73.499414, 20.226223, 134.77281, 53.560711],\n",
      "  u'id': 85632695,\n",
      "  u'name': u'China',\n",
      "  u'path': u'continent:asia_country:china',\n",
      "  u'placetype': u'country',\n",
      "  u'slug': u'asia_china'}]\n"
     ]
    }
   ],
   "source": [
    "# Find potential matches\n",
    "matches = dl.places.find('china')\n",
    "pprint(matches)\n"
   ]
  },
  {
   "cell_type": "code",
   "execution_count": 13,
   "metadata": {},
   "outputs": [],
   "source": [
    "aoi = matches[0]\n",
    "shape = dl.places.shape(aoi['slug'], geom='low')\n",
    "bbox = shape['bbox']\n",
    "\n",
    "# Lets load up the Albers Equal Area projection.\n",
    "lonlat_crs = cartopy.crs.PlateCarree()\n",
    "albers = cartopy.crs.AlbersEqualArea(central_latitude=36.0, central_longitude=-105)\n",
    "\n",
    "# fig = plt.figure(figsize=(4, 8))\n",
    "# ax = plt.subplot(projection=albers) # Specify projection of the map here\n",
    "shp = shapely.geometry.shape(shape['geometry'])\n",
    "\n",
    "# When adding a geometry in latlon coordinates, specify the latlon projection\n",
    "ax.add_geometries([shp], lonlat_crs)\n",
    "\n",
    "# You can set extents in latlon, as long as you specify the projection with `crs`\n",
    "ax.set_extent((bbox[0], bbox[2], bbox[1], bbox[3]), crs=lonlat_crs)\n",
    "ax.gridlines(crs=lonlat_crs)\n",
    "plt.show()"
   ]
  },
  {
   "cell_type": "code",
   "execution_count": null,
   "metadata": {},
   "outputs": [],
   "source": []
  }
 ],
 "metadata": {
  "kernelspec": {
   "display_name": "Python 2",
   "language": "python",
   "name": "python2"
  },
  "language_info": {
   "codemirror_mode": {
    "name": "ipython",
    "version": 2
   },
   "file_extension": ".py",
   "mimetype": "text/x-python",
   "name": "python",
   "nbconvert_exporter": "python",
   "pygments_lexer": "ipython2",
   "version": "2.7.11"
  }
 },
 "nbformat": 4,
 "nbformat_minor": 1
}

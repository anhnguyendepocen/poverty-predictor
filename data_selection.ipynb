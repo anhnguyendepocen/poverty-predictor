{
 "cells": [
  {
   "cell_type": "code",
   "execution_count": 2,
   "metadata": {},
   "outputs": [
    {
     "name": "stdout",
     "output_type": "stream",
     "text": [
      "<module 'descarteslabs' from '/usr/local/lib/python2.7/site-packages/descarteslabs/__init__.pyc'>\n"
     ]
    }
   ],
   "source": [
    "import descarteslabs as dl\n",
    "print dl"
   ]
  },
  {
   "cell_type": "markdown",
   "metadata": {},
   "source": [
    "**Experiment with Descartes Labs API and inventory datasets**\n",
    "\n",
    "Goal - employ remote sensing technique developed by Stanford Scientists to forecast the landsacpe of poverty.\n",
    "\n",
    "http://sustain.stanford.edu/predicting-poverty/\n",
    "\n",
    "Questions:\n",
    "\n",
    " - What datasets are needed exactly?\n"
   ]
  },
  {
   "cell_type": "markdown",
   "metadata": {},
   "source": [
    "Notes from Paper"
   ]
  },
  {
   "cell_type": "code",
   "execution_count": null,
   "metadata": {},
   "outputs": [],
   "source": []
  }
 ],
 "metadata": {
  "kernelspec": {
   "display_name": "Python 2",
   "language": "python",
   "name": "python2"
  },
  "language_info": {
   "codemirror_mode": {
    "name": "ipython",
    "version": 2
   },
   "file_extension": ".py",
   "mimetype": "text/x-python",
   "name": "python",
   "nbconvert_exporter": "python",
   "pygments_lexer": "ipython2",
   "version": "2.7.11"
  }
 },
 "nbformat": 4,
 "nbformat_minor": 1
}

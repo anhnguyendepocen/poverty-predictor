{
 "cells": [
  {
   "cell_type": "markdown",
   "metadata": {},
   "source": [
    "**Experiment with Descartes Labs API and inventory datasets**\n",
    "\n",
    "Let's see what datasets are available via the Descartes Labs API.\n"
   ]
  },
  {
   "cell_type": "code",
   "execution_count": null,
   "metadata": {},
   "outputs": [],
   "source": [
    "# Import plotting packages\n",
    "%matplotlib inline\n",
    "import matplotlib.pyplot as plt\n",
    "import shapely.geometry\n",
    "import cartopy\n",
    "\n",
    "# Import Descartes Labs library \n",
    "import descarteslabs as dl\n",
    "from pprint import pprint"
   ]
  },
  {
   "cell_type": "code",
   "execution_count": null,
   "metadata": {},
   "outputs": [],
   "source": [
    "sources = dl.metadata.sources()\n",
    "pprint (sources)"
   ]
  },
  {
   "cell_type": "code",
   "execution_count": null,
   "metadata": {},
   "outputs": [],
   "source": [
    "# Find potential matches\n",
    "matches = dl.places.find('honduras')\n",
    "pprint(matches)\n",
    "# The first one looks good to me, so lets make that our area of interest.\n",
    "aoi = matches[0]"
   ]
  },
  {
   "cell_type": "code",
   "execution_count": null,
   "metadata": {},
   "outputs": [],
   "source": [
    "aoi = matches[0]\n",
    "shape = dl.places.shape(aoi['slug'], geom='low')\n",
    "bbox = shape['bbox']\n",
    "\n",
    "# Lets load up the Albers Equal Area projection.\n",
    "lonlat_crs = cartopy.crs.PlateCarree()\n",
    "albers = cartopy.crs.AlbersEqualArea(central_latitude=36.0, central_longitude=-105)\n",
    "\n",
    "fig = plt.figure(figsize=(4, 8))\n",
    "ax = plt.subplot(projection=albers) # Specify projection of the map here\n",
    "shp = shapely.geometry.shape(shape['geometry'])\n",
    "\n",
    "# When adding a geometry in latlon coordinates, specify the latlon projection\n",
    "ax.add_geometries([shp], lonlat_crs)\n",
    "\n",
    "# You can set extents in latlon, as long as you specify the projection with `crs`\n",
    "ax.set_extent((bbox[0], bbox[2], bbox[1], bbox[3]), crs=lonlat_crs)\n",
    "ax.gridlines(crs=lonlat_crs)\n",
    "plt.show()"
   ]
  },
  {
   "cell_type": "code",
   "execution_count": null,
   "metadata": {},
   "outputs": [],
   "source": [
    "import json\n",
    "feature_collection = dl.metadata.search(products='landsat:LC08:PRE:TOAR', start_time='2017-03-12',\n",
    "                                        end_time='2015-03-20', limit=10, place=aoi['slug'])\n",
    "\n",
    "print len(feature_collection['features'])"
   ]
  },
  {
   "cell_type": "code",
   "execution_count": null,
   "metadata": {},
   "outputs": [],
   "source": [
    "arr, meta = dl.raster.ndarray(\n",
    "    f0['id'],\n",
    "    bands=['red', 'green', 'blue', 'alpha'],\n",
    "    scales=[[0,4000], [0, 4000], [0, 4000], None],\n",
    "    data_type='Byte',\n",
    "    resolution=30,\n",
    "    cutline=shape['geometry'],\n",
    ")\n"
   ]
  },
  {
   "cell_type": "code",
   "execution_count": null,
   "metadata": {},
   "outputs": [],
   "source": [
    "plt.figure(figsize=[16,16])\n",
    "plt.imshow(arr)"
   ]
  },
  {
   "cell_type": "markdown",
   "metadata": {},
   "source": [
    "**Test technique for classification of Landsat imagery**\n",
    "\n",
    "Using scikit-learn learn and gdal, we can create training data to classify urban areas in imagery. The t\n"
   ]
  },
  {
   "cell_type": "code",
   "execution_count": 17,
   "metadata": {},
   "outputs": [],
   "source": [
    "import numpy as np\n",
    "import os\n",
    "\n",
    "from osgeo import gdal\n",
    "from sklearn import metrics\n",
    "from sklearn.ensemble import RandomForestClassifier"
   ]
  }
 ],
 "metadata": {
  "kernelspec": {
   "display_name": "Python 2",
   "language": "python",
   "name": "python2"
  },
  "language_info": {
   "codemirror_mode": {
    "name": "ipython",
    "version": 2
   },
   "file_extension": ".py",
   "mimetype": "text/x-python",
   "name": "python",
   "nbconvert_exporter": "python",
   "pygments_lexer": "ipython2",
   "version": "2.7.11"
  }
 },
 "nbformat": 4,
 "nbformat_minor": 1
}

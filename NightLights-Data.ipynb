{
 "cells": [
  {
   "cell_type": "markdown",
   "metadata": {},
   "source": [
    "### Aquiring and importing night-lights data \n",
    "\n",
    "Imagery displaying observed light at night over the country of Burundi was downloaded from the NOAA VIIRS website: https://ngdc.noaa.gov/eog/viirs/download_ut_mos.html Burundi is contained within Tile 5, just slightly below the equator. \n",
    "\n",
    "We will use satellite day and night time from 2017. Burundi's dry season spans June to late September. Imagery will be collected as close to August 15th, 2017 to minimize noise created from seasonality between the datasets and increase the likelhood the images will be cloud free. \n",
    "\n",
    "\n",
    "#### Preprocessing: \n",
    "\n",
    "Images downloaded from the above website are free of inherent geographic information. To convert the image from png to tiff while applying the coordinate system, I the following gdal command via the cli: \n",
    "\n",
    "```\n",
    "gdal_translate  -a_srs EPSG:4326  -co compress=LZW SVDNB_npp_d20170815.d.00N060W.png Burundi_20170815.tiff\n",
    "```"
   ]
  },
  {
   "cell_type": "code",
   "execution_count": 8,
   "metadata": {
    "collapsed": true
   },
   "outputs": [],
   "source": [
    "import os\n",
    "import warnings\n",
    "from pprint import pprint\n",
    "import descarteslabs as dl"
   ]
  },
  {
   "cell_type": "code",
   "execution_count": 9,
   "metadata": {},
   "outputs": [
    {
     "name": "stdout",
     "output_type": "stream",
     "text": [
      "{'bbox': [29.001302, -4.468538, 30.849959, -2.309987],\n",
      " 'id': 85632285,\n",
      " 'name': 'Burundi',\n",
      " 'path': 'continent:africa_country:burundi',\n",
      " 'placetype': 'country',\n",
      " 'slug': 'africa_burundi'}\n"
     ]
    }
   ],
   "source": [
    "# *************FIND COUNTRY BOUNDARY ***************\n",
    "matches = dl.places.find('burundi')\n",
    "aoi = matches[0]\n",
    "pprint(aoi)\n",
    "\n",
    "# This area of interest just gives us some basic properties such as bounding boxes.\n",
    "# To access a GeoJSON Geometry object of that place, we call the `Places.shape` method, in this case\n",
    "# accessing a low-resolution version of this particular shape.\n",
    "shape = dl.places.shape(aoi['slug'], geom='low')"
   ]
  },
  {
   "cell_type": "code",
   "execution_count": 10,
   "metadata": {},
   "outputs": [
    {
     "name": "stdout",
     "output_type": "stream",
     "text": [
      "15601 28801\n"
     ]
    }
   ],
   "source": [
    "# *************OPEN AN EXISTING IMAGE FROM DISK ***************\n",
    "from osgeo import gdal\n",
    "import numpy as np\n",
    "raster_data_path = \"data/black-marble/Burundi_20170815.tiff\"\n",
    "raster_dataset = gdal.Open(raster_data_path, gdal.GA_ReadOnly)\n",
    "#     <osgeo.gdal.Dataset; proxy of <Swig Object of type 'GDALDatasetShadow *' at 0x1a16aa4db0> >\n",
    "geo_transform = raster_dataset.GetGeoTransform()\n",
    "#     (416415.0, 30.0, 0.0, 6663145.0, 0.0, -30.0)\n",
    "proj = raster_dataset.GetProjectionRef()\n",
    "#     PROJCS[\"WGS 84 / UTM zone 20S\",GEOGCS[\"WGS 84\",DATUM[\"WGS_1984\",SPHEROID[\"WGS 84\",6378137,298.257223563,AUTHORITY[\"EPSG\",\"7030\"]],AUTHORITY[\"EPSG\",\"6326\"]],PRIMEM[\"Greenwich\",0],UNIT[\"degree\",0.0174532925199433],AUTHORITY[\"EPSG\",\"4326\"]],PROJECTION[\"Transverse_Mercator\"],PARAMETER[\"latitude_of_origin\",0],PARAMETER[\"central_meridian\",-63],PARAMETER[\"scale_factor\",0.9996],PARAMETER[\"false_easting\",500000],PARAMETER[\"false_northing\",10000000],UNIT[\"metre\",1,AUTHORITY[\"EPSG\",\"9001\"]],AUTHORITY[\"EPSG\",\"32720\"]]\n",
    "bands_data = []\n",
    "for b in range(1, raster_dataset.RasterCount+1):\n",
    "    band = raster_dataset.GetRasterBand(b)\n",
    "    bands_data.append(band.ReadAsArray())\n",
    "#     [array dtype=float32],[...], ...\n",
    "bands_data = np.dstack(bands_data)\n",
    "\n",
    "\n",
    "# Validate data\n",
    "rows, cols, n_bands = bands_data.shape\n",
    "print (rows, cols)"
   ]
  },
  {
   "cell_type": "code",
   "execution_count": null,
   "metadata": {},
   "outputs": [],
   "source": [
    "# *************PLOT SINGLE IMAGE ***************\n",
    "\n",
    "import matplotlib.pyplot as plt\n",
    "%matplotlib inline\n",
    "\n",
    "plt.figure(figsize=[16,16])\n",
    "plt.imshow(bands_data)"
   ]
  },
  {
   "cell_type": "markdown",
   "metadata": {},
   "source": [
    "Next Steps:\n",
    "*** 1. Test techniques on Sattelite and NightLight sample data in each of their respective notebooks. ***\n",
    "2. Complete the datasets - Identify all day Landsat 8 images over Burundi for the given Black Marble and output image from the year with less than 10% cloud cover.\n",
    "3. Output the images, and select a subset that covers the country."
   ]
  }
 ],
 "metadata": {
  "kernelspec": {
   "display_name": "Python 2",
   "language": "python",
   "name": "python2"
  },
  "language_info": {
   "codemirror_mode": {
    "name": "ipython",
    "version": 3
   },
   "file_extension": ".py",
   "mimetype": "text/x-python",
   "name": "python",
   "nbconvert_exporter": "python",
   "pygments_lexer": "ipython3",
   "version": "3.5.4"
  }
 },
 "nbformat": 4,
 "nbformat_minor": 1
}
